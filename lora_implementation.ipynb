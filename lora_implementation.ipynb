{
 "cells": [
  {
   "cell_type": "markdown",
   "id": "30a17fb6",
   "metadata": {},
   "source": [
    "**LoRA implementation with Pytorch**"
   ]
  },
  {
   "cell_type": "code",
   "execution_count": 2,
   "id": "0ca4cbaa",
   "metadata": {},
   "outputs": [],
   "source": [
    "import torch\n",
    "import torchvision.datasets as datasets \n",
    "import torchvision.transforms as transforms\n",
    "import torch.nn as nn\n",
    "import matplotlib.pyplot as plt\n",
    "from tqdm import tqdm\n",
    "\n",
    "_ = torch.manual_seed(0)"
   ]
  },
  {
   "cell_type": "code",
   "execution_count": 3,
   "id": "624657d7",
   "metadata": {},
   "outputs": [],
   "source": [
    "# Image preproccess pipeline\n",
    "transform = transforms.Compose([transforms.ToTensor(), transforms.Normalize((0.1307,), (0.3081,))])\n",
    "\n",
    "# Load the MNIST dataset\n",
    "mnist_trainset = datasets.MNIST(root='./data', train=True, download=True, transform=transform)\n",
    "# Create a dataloader for the training\n",
    "train_loader = torch.utils.data.DataLoader(mnist_trainset, batch_size=10, shuffle=True)\n",
    "\n",
    "# Load the MNIST test set\n",
    "mnist_testset = datasets.MNIST(root='./data', train=False, download=True, transform=transform)\n",
    "test_loader = torch.utils.data.DataLoader(mnist_testset, batch_size=10, shuffle=True)\n",
    "\n",
    "# Define the device\n",
    "device = torch.device(\"cuda:0\" if torch.cuda.is_available() else \"cpu\")\n"
   ]
  },
  {
   "cell_type": "markdown",
   "id": "57217653",
   "metadata": {},
   "source": [
    "Create the Neural Network to classify the digits, making it overly complicated to better show the power of LoRA"
   ]
  },
  {
   "cell_type": "code",
   "execution_count": 13,
   "id": "f011b8d0",
   "metadata": {},
   "outputs": [
    {
     "name": "stdout",
     "output_type": "stream",
     "text": [
      "torch.Size([1000, 784])\n"
     ]
    }
   ],
   "source": [
    "# Create an overly expensive neural network to classify MNIST digits\n",
    "class RichNet(nn.Module):\n",
    "    def __init__(self, hidden_size_1 = 1000, hidden_size_2=2000):\n",
    "        super(RichNet,self).__init__()\n",
    "        self.linear1 = nn.Linear(28*28, hidden_size_1) \n",
    "        self.linear2 = nn.Linear(hidden_size_1, hidden_size_2) \n",
    "        self.linear3 = nn.Linear(hidden_size_2, 10)\n",
    "        self.relu = nn.ReLU()\n",
    "\n",
    "    def forward(self, img):\n",
    "        x = img.view(-1, 28*28) # [Batch_size, 784]\n",
    "        x = self.relu(self.linear1(x))\n",
    "        x = self.relu(self.linear2(x))\n",
    "        x = self.linear3(x)\n",
    "        return x\n",
    "    \n",
    "net = RichNet().to(device)\n",
    "print(net.linear1.weight.shape)"
   ]
  },
  {
   "cell_type": "markdown",
   "id": "26173417",
   "metadata": {},
   "source": [
    "Train the network only for 1 epoch to simulate a complete general pre-training on the data"
   ]
  },
  {
   "cell_type": "code",
   "execution_count": 5,
   "id": "4fb37e2f",
   "metadata": {},
   "outputs": [
    {
     "name": "stderr",
     "output_type": "stream",
     "text": [
      "Epoch 1: 100%|██████████| 6000/6000 [00:16<00:00, 369.23it/s, loss=0.239]\n"
     ]
    }
   ],
   "source": [
    "def train(train_loader, net, epochs=5, total_iterations_limit=None):\n",
    "    cross_el = nn.CrossEntropyLoss() #Input: unnormalized logits; output: [Batch_size, Num_class]; y: [Batch_si、\n",
    "    optimizer = torch.optim.Adam(net.parameters(), lr=0.001)\n",
    "\n",
    "    total_iterations = 0\n",
    "\n",
    "    for epoch in range(epochs):\n",
    "        net.train()\n",
    "\n",
    "        loss_sum = 0\n",
    "        num_iterations = 0\n",
    "\n",
    "        data_iterator = tqdm(train_loader, desc=f'Epoch {epoch+1}')\n",
    "        if total_iterations_limit is not None:\n",
    "            data_iterator.total = total_iterations_limit\n",
    "        for data in data_iterator:   # iteration_num = len(dataset) / batch_size\n",
    "            num_iterations += 1\n",
    "            total_iterations += 1\n",
    "            x, y = data # x: [Batch_size, Num_channel, H, W]; # y: [Batch_size]\n",
    "            x = x.to(device) \n",
    "            y = y.to(device)\n",
    "            optimizer.zero_grad()\n",
    "            output = net(x.view(-1, 28*28))\n",
    "            loss = cross_el(output, y) # A scalar, average loss over the batch\n",
    "            loss_sum += loss.item()\n",
    "            avg_loss = loss_sum / num_iterations\n",
    "            data_iterator.set_postfix(loss=avg_loss)\n",
    "            loss.backward()\n",
    "            optimizer.step()\n",
    "\n",
    "            if total_iterations_limit is not None and total_iterations >= total_iterations_limit:\n",
    "                return\n",
    "\n",
    "train(train_loader, net, epochs=1)"
   ]
  },
  {
   "cell_type": "markdown",
   "id": "527f01e3",
   "metadata": {},
   "source": [
    "Keep a copy of the original weights (cloning them) so later we can prove that a fine-tuning with LoRA doesn't alter the original weights"
   ]
  },
  {
   "cell_type": "code",
   "execution_count": 6,
   "id": "06d87ab9",
   "metadata": {},
   "outputs": [],
   "source": [
    "original_weights = {}\n",
    "for name, param in net.named_parameters():\n",
    "    original_weights[name] = param.clone().detach()\n",
    "# Make a clean numeric snapshot of each parameter:\n",
    "# clone() creates a new tensor with its own memory (not a reference),\n",
    "# detach() removes it from the computation graph (no gradients tracked).\n",
    "# This ensures that even if the model parameters are updated later,\n",
    "# the values stored in original_weights remain unchanged."
   ]
  },
  {
   "cell_type": "code",
   "execution_count": 7,
   "id": "8901c78d",
   "metadata": {},
   "outputs": [
    {
     "name": "stderr",
     "output_type": "stream",
     "text": [
      "Testing: 100%|██████████| 1000/1000 [00:02<00:00, 498.97it/s]"
     ]
    },
    {
     "name": "stdout",
     "output_type": "stream",
     "text": [
      "Accuracy: 0.957\n",
      "wrong counts for the digit 0: 14\n",
      "wrong counts for the digit 1: 21\n",
      "wrong counts for the digit 2: 65\n",
      "wrong counts for the digit 3: 47\n",
      "wrong counts for the digit 4: 37\n",
      "wrong counts for the digit 5: 55\n",
      "wrong counts for the digit 6: 23\n",
      "wrong counts for the digit 7: 53\n",
      "wrong counts for the digit 8: 10\n",
      "wrong counts for the digit 9: 102\n"
     ]
    },
    {
     "name": "stderr",
     "output_type": "stream",
     "text": [
      "\n"
     ]
    }
   ],
   "source": [
    "def test():\n",
    "    correct = 0\n",
    "    total = 0\n",
    "\n",
    "    wrong_counts = [0 for i in range(10)]\n",
    "\n",
    "    with torch.no_grad():\n",
    "        for data in tqdm(test_loader, desc='Testing'):\n",
    "            x, y = data\n",
    "            x = x.to(device)\n",
    "            y = y.to(device)\n",
    "            output = net(x.view(-1, 784))\n",
    "            preds = torch.argmax(output, dim=1)  # [batch_size]\n",
    "            correct_mask = (preds == y)\n",
    "            correct = correct + correct_mask.sum().item()\n",
    "            total += y.size(0)\n",
    "            for label in range(10):\n",
    "                wrong_counts[label] += ((y == label) & (preds != label)).sum().item()\n",
    "    print(f'Accuracy: {round(correct/total, 3)}')\n",
    "    for i in range(len(wrong_counts)):\n",
    "        print(f'wrong counts for the digit {i}: {wrong_counts[i]}')\n",
    "\n",
    "test()"
   ]
  },
  {
   "cell_type": "markdown",
   "id": "2dc70d18",
   "metadata": {},
   "source": [
    "As we can see, the original richnet performs worst w.r.t digit 7, let's definr a lora fintuning on digit 9."
   ]
  },
  {
   "cell_type": "code",
   "execution_count": 10,
   "id": "93bf3dab",
   "metadata": {},
   "outputs": [
    {
     "name": "stdout",
     "output_type": "stream",
     "text": [
      "Layer 1: shape of weight: torch.Size([1000, 784]); shape of bias: torch.Size([1000])\n",
      "Layer 2: shape of weight: torch.Size([2000, 1000]); shape of bias: torch.Size([2000])\n",
      "Layer 3: shape of weight: torch.Size([10, 2000]); shape of bias: torch.Size([10])\n",
      "Total number of parameters: 2807010\n"
     ]
    }
   ],
   "source": [
    "total_original_parameters = 0\n",
    "for index, layer in enumerate([net.linear1, net.linear2, net.linear3]):\n",
    "    total_original_parameters += (layer.weight.nelement() + layer.bias.nelement())\n",
    "    print(f\"Layer {index+1}: shape of weight: {layer.weight.shape}; shape of bias: {layer.bias.shape}\")\n",
    "print(f\"Total number of parameters: {total_original_parameters}\")"
   ]
  },
  {
   "cell_type": "code",
   "execution_count": null,
   "id": "a773db38",
   "metadata": {},
   "outputs": [],
   "source": [
    "class LoRAParametrization(nn.Module):\n",
    "    def __init__(self, features_in, features_out, rank=1, alpha=1, device='cuda'):\n",
    "        super().__init__()\n",
    "        self.lora_A = nn.Parameter(torch.zeros((rank, features_out)).to(device))\n",
    "        self.lora_B = nn.Parameter(torch.zeros((features_in, rank)).to(device))\n",
    "        nn.init.normal_(self.lora_A, mean=0, std=1)\n",
    "\n",
    "        self.scale = alpha/rank\n",
    "        self.enabled = True\n",
    "    \n",
    "    def forward(self, original_weights):\n",
    "        if self.enabled:\n",
    "            return original_weights + torch.matmul(self.lora_B, self.lora_A).view(original_weights.shape) * self.scale\n",
    "        else:\n",
    "            return original_weights"
   ]
  },
  {
   "cell_type": "markdown",
   "id": "2c840d94",
   "metadata": {},
   "source": [
    "Add the Parametrization to our network."
   ]
  },
  {
   "cell_type": "code",
   "execution_count": null,
   "id": "80d8611e",
   "metadata": {},
   "outputs": [],
   "source": [
    "import torch.nn.utils.parametrize as parametrize\n",
    "\n",
    "def linear_layer_parametrization(layer, device, rank=1, lora_alpha=1):\n",
    "    features_out, features_in = layer.weight.shape\n",
    "    return LoRAParametrization(\n",
    "        features_in, features_out, rank=rank, alpha=lora_alpha, device=device\n",
    "    )\n",
    "\n"
   ]
  }
 ],
 "metadata": {
  "kernelspec": {
   "display_name": "lora_from_scratch",
   "language": "python",
   "name": "python3"
  },
  "language_info": {
   "codemirror_mode": {
    "name": "ipython",
    "version": 3
   },
   "file_extension": ".py",
   "mimetype": "text/x-python",
   "name": "python",
   "nbconvert_exporter": "python",
   "pygments_lexer": "ipython3",
   "version": "3.9.24"
  }
 },
 "nbformat": 4,
 "nbformat_minor": 5
}
